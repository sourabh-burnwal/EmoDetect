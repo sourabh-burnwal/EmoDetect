{
 "cells": [
  {
   "cell_type": "markdown",
   "id": "6c0a6c6f",
   "metadata": {},
   "source": [
    "## Import the required libraries first"
   ]
  },
  {
   "cell_type": "code",
   "execution_count": 18,
   "id": "5195be90",
   "metadata": {},
   "outputs": [],
   "source": [
    "import numpy as np\n",
    "import pandas as pd\n",
    "import os\n",
    "import matplotlib.pyplot as plt\n",
    "import seaborn as sns\n",
    "import tensorflow as tf\n",
    "import keras\n",
    "from keras.preprocessing import image\n",
    "from keras.models import Sequential\n",
    "from keras.layers import Conv2D, MaxPool2D, Flatten, Dense, Dropout, BatchNormalization\n",
    "from tensorflow.keras.preprocessing.image import ImageDataGenerator\n",
    "import cv2\n",
    "from keras import regularizers\n",
    "from tensorflow.keras.optimizers import Adam\n",
    "from tensorflow.keras.applications import ResNet50\n",
    "from "
   ]
  },
  {
   "cell_type": "code",
   "execution_count": 2,
   "id": "96b58101",
   "metadata": {},
   "outputs": [],
   "source": [
    "# define the data directories\n",
    "\n",
    "train_dir = '../data/train'\n",
    "test_dir = '../data/test'"
   ]
  },
  {
   "cell_type": "code",
   "execution_count": 4,
   "id": "7d262b8e",
   "metadata": {},
   "outputs": [],
   "source": [
    "# the available size of images\n",
    "IMG_SIZE = (48, 48)"
   ]
  },
  {
   "cell_type": "markdown",
   "id": "b292a56c",
   "metadata": {},
   "source": [
    "Data Augmentation helps in building a model that is robust to various possible changes in the test images. At the same time helping us to increase the dataset"
   ]
  },
  {
   "cell_type": "code",
   "execution_count": 5,
   "id": "ca863b1e",
   "metadata": {},
   "outputs": [],
   "source": [
    "train_datagen = ImageDataGenerator(rotation_range = 45,\n",
    "                                   width_shift_range = 0.1,\n",
    "                                   height_shift_range = 0.1,\n",
    "                                   horizontal_flip = True,\n",
    "                                   rescale = 1./255,\n",
    "                                   validation_split = 0.2)\n",
    "\n",
    "validation_datagen = ImageDataGenerator(rescale = 1./255,\n",
    "                                        validation_split = 0.2)"
   ]
  },
  {
   "cell_type": "code",
   "execution_count": 6,
   "id": "7a7b5bab",
   "metadata": {},
   "outputs": [
    {
     "name": "stdout",
     "output_type": "stream",
     "text": [
      "Found 22968 images belonging to 7 classes.\n",
      "Found 1432 images belonging to 7 classes.\n"
     ]
    }
   ],
   "source": [
    "# let's generate the imgaes (augementation) \n",
    "# while reading from the data source directory\n",
    "\n",
    "train_generator = train_datagen.flow_from_directory(directory = train_dir,\n",
    "                                                    target_size = IMG_SIZE,\n",
    "                                                    batch_size = 64,\n",
    "                                                    color_mode = 'grayscale',\n",
    "                                                    class_mode = 'categorical',\n",
    "                                                    subset = 'training')\n",
    "\n",
    "validation_generator = validation_datagen.flow_from_directory(directory = test_dir,\n",
    "                                                              target_size = IMG_SIZE,\n",
    "                                                              batch_size = 64,\n",
    "                                                              color_mode = 'grayscale',\n",
    "                                                              class_mode = 'categorical',\n",
    "                                                              subset = 'validation')"
   ]
  },
  {
   "cell_type": "code",
   "execution_count": 10,
   "id": "b825dda1",
   "metadata": {},
   "outputs": [],
   "source": [
    "model = tf.keras.models.Sequential()\n",
    "\n",
    "model.add(Conv2D(32, kernel_size=(3,3), padding='same',activation='relu', input_shape=(48,48,1)))\n",
    "model.add(Conv2D(32, (3,3), padding='same', activation='relu'))\n",
    "model.add(BatchNormalization())\n",
    "model.add(MaxPool2D(pool_size=(2,2)))\n",
    "model.add(Dropout(0.25))\n",
    "\n",
    "model.add(Conv2D(64, kernel_size=(3,3), padding='same', activation='relu'))\n",
    "model.add(Conv2D(64, (3,3), padding='same', activation='relu'))\n",
    "model.add(BatchNormalization())\n",
    "model.add(MaxPool2D(pool_size=(2,2)))\n",
    "model.add(Dropout(0.25))\n",
    "\n",
    "model.add(Conv2D(128, kernel_size=(5,5), padding='same', activation='relu'))\n",
    "model.add(Conv2D(128, (5,5), padding='same', activation='relu'))\n",
    "model.add(BatchNormalization())\n",
    "model.add(MaxPool2D(pool_size=(2,2)))\n",
    "model.add(Dropout(0.25))\n",
    "\n",
    "model.add(Conv2D(512,(3,3), padding='same', activation='relu', kernel_regularizer=regularizers.l2(0.01)))\n",
    "model.add(BatchNormalization())\n",
    "model.add(MaxPool2D(pool_size=(2,2)))\n",
    "model.add(Dropout(0.25))\n",
    "\n",
    "model.add(Conv2D(512,(3,3), padding='same', activation='relu', kernel_regularizer=regularizers.l2(0.01)))\n",
    "model.add(BatchNormalization())\n",
    "model.add(MaxPool2D(pool_size=(2,2)))\n",
    "model.add(Dropout(0.25))\n",
    "\n",
    "model.add(Flatten()) \n",
    "model.add(Dense(256,activation = 'relu'))\n",
    "model.add(BatchNormalization())\n",
    "model.add(Dropout(0.25))\n",
    "    \n",
    "model.add(Dense(512,activation = 'relu'))\n",
    "model.add(BatchNormalization())\n",
    "model.add(Dropout(0.25))\n",
    "\n",
    "model.add(Dense(7, activation='softmax'))\n",
    "\n",
    "model.compile(optimizer = Adam(lr=0.0001),\n",
    "             loss='categorical_crossentropy',\n",
    "             metrics=['accuracy'])"
   ]
  },
  {
   "cell_type": "code",
   "execution_count": 11,
   "id": "aae76fd4",
   "metadata": {},
   "outputs": [],
   "source": [
    "epochs = 50\n",
    "batch_size = 64"
   ]
  },
  {
   "cell_type": "code",
   "execution_count": 12,
   "id": "dd51a2de",
   "metadata": {},
   "outputs": [
    {
     "name": "stdout",
     "output_type": "stream",
     "text": [
      "Model: \"sequential_3\"\n",
      "_________________________________________________________________\n",
      "Layer (type)                 Output Shape              Param #   \n",
      "=================================================================\n",
      "conv2d_14 (Conv2D)           (None, 48, 48, 32)        320       \n",
      "_________________________________________________________________\n",
      "conv2d_15 (Conv2D)           (None, 48, 48, 32)        9248      \n",
      "_________________________________________________________________\n",
      "batch_normalization_6 (Batch (None, 48, 48, 32)        128       \n",
      "_________________________________________________________________\n",
      "max_pooling2d_6 (MaxPooling2 (None, 24, 24, 32)        0         \n",
      "_________________________________________________________________\n",
      "dropout_5 (Dropout)          (None, 24, 24, 32)        0         \n",
      "_________________________________________________________________\n",
      "conv2d_16 (Conv2D)           (None, 24, 24, 64)        18496     \n",
      "_________________________________________________________________\n",
      "conv2d_17 (Conv2D)           (None, 24, 24, 64)        36928     \n",
      "_________________________________________________________________\n",
      "batch_normalization_7 (Batch (None, 24, 24, 64)        256       \n",
      "_________________________________________________________________\n",
      "max_pooling2d_7 (MaxPooling2 (None, 12, 12, 64)        0         \n",
      "_________________________________________________________________\n",
      "dropout_6 (Dropout)          (None, 12, 12, 64)        0         \n",
      "_________________________________________________________________\n",
      "conv2d_18 (Conv2D)           (None, 12, 12, 128)       204928    \n",
      "_________________________________________________________________\n",
      "conv2d_19 (Conv2D)           (None, 12, 12, 128)       409728    \n",
      "_________________________________________________________________\n",
      "batch_normalization_8 (Batch (None, 12, 12, 128)       512       \n",
      "_________________________________________________________________\n",
      "max_pooling2d_8 (MaxPooling2 (None, 6, 6, 128)         0         \n",
      "_________________________________________________________________\n",
      "dropout_7 (Dropout)          (None, 6, 6, 128)         0         \n",
      "_________________________________________________________________\n",
      "conv2d_20 (Conv2D)           (None, 6, 6, 512)         590336    \n",
      "_________________________________________________________________\n",
      "batch_normalization_9 (Batch (None, 6, 6, 512)         2048      \n",
      "_________________________________________________________________\n",
      "max_pooling2d_9 (MaxPooling2 (None, 3, 3, 512)         0         \n",
      "_________________________________________________________________\n",
      "dropout_8 (Dropout)          (None, 3, 3, 512)         0         \n",
      "_________________________________________________________________\n",
      "conv2d_21 (Conv2D)           (None, 3, 3, 512)         2359808   \n",
      "_________________________________________________________________\n",
      "batch_normalization_10 (Batc (None, 3, 3, 512)         2048      \n",
      "_________________________________________________________________\n",
      "max_pooling2d_10 (MaxPooling (None, 1, 1, 512)         0         \n",
      "_________________________________________________________________\n",
      "dropout_9 (Dropout)          (None, 1, 1, 512)         0         \n",
      "_________________________________________________________________\n",
      "flatten (Flatten)            (None, 512)               0         \n",
      "_________________________________________________________________\n",
      "dense (Dense)                (None, 256)               131328    \n",
      "_________________________________________________________________\n",
      "batch_normalization_11 (Batc (None, 256)               1024      \n",
      "_________________________________________________________________\n",
      "dropout_10 (Dropout)         (None, 256)               0         \n",
      "_________________________________________________________________\n",
      "dense_1 (Dense)              (None, 512)               131584    \n",
      "_________________________________________________________________\n",
      "batch_normalization_12 (Batc (None, 512)               2048      \n",
      "_________________________________________________________________\n",
      "dropout_11 (Dropout)         (None, 512)               0         \n",
      "_________________________________________________________________\n",
      "dense_2 (Dense)              (None, 7)                 3591      \n",
      "=================================================================\n",
      "Total params: 3,904,359\n",
      "Trainable params: 3,900,327\n",
      "Non-trainable params: 4,032\n",
      "_________________________________________________________________\n"
     ]
    }
   ],
   "source": [
    "model.summary()"
   ]
  },
  {
   "cell_type": "code",
   "execution_count": 13,
   "id": "473f084b",
   "metadata": {},
   "outputs": [
    {
     "name": "stdout",
     "output_type": "stream",
     "text": [
      "Epoch 1/50\n",
      "359/359 [==============================] - 401s 1s/step - loss: 8.8818 - accuracy: 0.1602 - val_loss: 8.0370 - val_accuracy: 0.2472\n",
      "Epoch 2/50\n",
      "359/359 [==============================] - 400s 1s/step - loss: 7.6213 - accuracy: 0.1794 - val_loss: 7.1595 - val_accuracy: 0.1962\n",
      "Epoch 3/50\n",
      "359/359 [==============================] - 396s 1s/step - loss: 6.9482 - accuracy: 0.1928 - val_loss: 6.4726 - val_accuracy: 0.2011\n",
      "Epoch 4/50\n",
      "359/359 [==============================] - 401s 1s/step - loss: 6.4363 - accuracy: 0.2031 - val_loss: 6.0721 - val_accuracy: 0.2256\n",
      "Epoch 5/50\n",
      "359/359 [==============================] - 402s 1s/step - loss: 6.0829 - accuracy: 0.2020 - val_loss: 5.8022 - val_accuracy: 0.2165\n",
      "Epoch 6/50\n",
      "359/359 [==============================] - 399s 1s/step - loss: 5.7813 - accuracy: 0.2056 - val_loss: 5.4959 - val_accuracy: 0.2318\n",
      "Epoch 7/50\n",
      "359/359 [==============================] - 399s 1s/step - loss: 5.5330 - accuracy: 0.2077 - val_loss: 5.2946 - val_accuracy: 0.2388\n",
      "Epoch 8/50\n",
      "359/359 [==============================] - 398s 1s/step - loss: 5.3092 - accuracy: 0.2108 - val_loss: 5.0545 - val_accuracy: 0.2458\n",
      "Epoch 9/50\n",
      "359/359 [==============================] - 398s 1s/step - loss: 5.1037 - accuracy: 0.2092 - val_loss: 4.9022 - val_accuracy: 0.2493\n",
      "Epoch 10/50\n",
      "359/359 [==============================] - 394s 1s/step - loss: 4.9181 - accuracy: 0.2125 - val_loss: 4.7101 - val_accuracy: 0.2570\n",
      "Epoch 11/50\n",
      "359/359 [==============================] - 393s 1s/step - loss: 4.7444 - accuracy: 0.2102 - val_loss: 4.5776 - val_accuracy: 0.2500\n",
      "Epoch 12/50\n",
      "359/359 [==============================] - 398s 1s/step - loss: 4.5964 - accuracy: 0.2169 - val_loss: 4.4551 - val_accuracy: 0.2409\n",
      "Epoch 13/50\n",
      "359/359 [==============================] - 396s 1s/step - loss: 4.4629 - accuracy: 0.2167 - val_loss: 4.3121 - val_accuracy: 0.2304\n",
      "Epoch 14/50\n",
      "359/359 [==============================] - 394s 1s/step - loss: 4.3236 - accuracy: 0.2172 - val_loss: 4.2135 - val_accuracy: 0.2514\n",
      "Epoch 15/50\n",
      "359/359 [==============================] - 397s 1s/step - loss: 4.1830 - accuracy: 0.2201 - val_loss: 4.0710 - val_accuracy: 0.2486\n",
      "Epoch 16/50\n",
      "359/359 [==============================] - 398s 1s/step - loss: 4.0580 - accuracy: 0.2268 - val_loss: 3.9366 - val_accuracy: 0.2444\n",
      "Epoch 17/50\n",
      "359/359 [==============================] - 396s 1s/step - loss: 3.9371 - accuracy: 0.2272 - val_loss: 3.8372 - val_accuracy: 0.2423\n",
      "Epoch 18/50\n",
      "359/359 [==============================] - 396s 1s/step - loss: 3.8519 - accuracy: 0.2264 - val_loss: 3.7898 - val_accuracy: 0.2395\n",
      "Epoch 19/50\n",
      "359/359 [==============================] - 396s 1s/step - loss: 3.7639 - accuracy: 0.2265 - val_loss: 3.7041 - val_accuracy: 0.2437\n",
      "Epoch 20/50\n",
      "359/359 [==============================] - 394s 1s/step - loss: 3.6823 - accuracy: 0.2284 - val_loss: 3.6098 - val_accuracy: 0.2444\n",
      "Epoch 21/50\n",
      "359/359 [==============================] - 398s 1s/step - loss: 3.6002 - accuracy: 0.2311 - val_loss: 3.5194 - val_accuracy: 0.2472\n",
      "Epoch 22/50\n",
      "359/359 [==============================] - 395s 1s/step - loss: 3.5217 - accuracy: 0.2338 - val_loss: 3.4544 - val_accuracy: 0.2542\n",
      "Epoch 23/50\n",
      "359/359 [==============================] - 398s 1s/step - loss: 3.4410 - accuracy: 0.2373 - val_loss: 3.3844 - val_accuracy: 0.2500\n",
      "Epoch 24/50\n",
      "359/359 [==============================] - 395s 1s/step - loss: 3.3715 - accuracy: 0.2367 - val_loss: 3.3221 - val_accuracy: 0.2472\n",
      "Epoch 25/50\n",
      "359/359 [==============================] - 398s 1s/step - loss: 3.3164 - accuracy: 0.2432 - val_loss: 3.2883 - val_accuracy: 0.2297\n",
      "Epoch 26/50\n",
      "359/359 [==============================] - 394s 1s/step - loss: 3.2798 - accuracy: 0.2434 - val_loss: 3.2745 - val_accuracy: 0.2291\n",
      "Epoch 27/50\n",
      "359/359 [==============================] - 397s 1s/step - loss: 3.2548 - accuracy: 0.2433 - val_loss: 3.2051 - val_accuracy: 0.2703\n",
      "Epoch 28/50\n",
      "359/359 [==============================] - 398s 1s/step - loss: 3.2178 - accuracy: 0.2436 - val_loss: 3.3111 - val_accuracy: 0.1390\n",
      "Epoch 29/50\n",
      "359/359 [==============================] - 398s 1s/step - loss: 3.1682 - accuracy: 0.2393 - val_loss: 3.1158 - val_accuracy: 0.2626\n",
      "Epoch 30/50\n",
      "359/359 [==============================] - 399s 1s/step - loss: 3.1285 - accuracy: 0.2392 - val_loss: 3.1319 - val_accuracy: 0.2074\n",
      "Epoch 31/50\n",
      "359/359 [==============================] - 403s 1s/step - loss: 3.0842 - accuracy: 0.2409 - val_loss: 3.0349 - val_accuracy: 0.2549\n",
      "Epoch 32/50\n",
      "359/359 [==============================] - 395s 1s/step - loss: 3.0289 - accuracy: 0.2433 - val_loss: 3.0240 - val_accuracy: 0.2297\n",
      "Epoch 33/50\n",
      "359/359 [==============================] - 395s 1s/step - loss: 2.9859 - accuracy: 0.2422 - val_loss: 2.9973 - val_accuracy: 0.2479\n",
      "Epoch 34/50\n",
      "359/359 [==============================] - 400s 1s/step - loss: 2.9372 - accuracy: 0.2482 - val_loss: 2.9150 - val_accuracy: 0.2465\n",
      "Epoch 35/50\n",
      "359/359 [==============================] - 397s 1s/step - loss: 2.8961 - accuracy: 0.2456 - val_loss: 2.8795 - val_accuracy: 0.2416\n",
      "Epoch 36/50\n",
      "359/359 [==============================] - 398s 1s/step - loss: 2.8781 - accuracy: 0.2459 - val_loss: 2.8654 - val_accuracy: 0.2486\n",
      "Epoch 37/50\n",
      "359/359 [==============================] - 400s 1s/step - loss: 2.8675 - accuracy: 0.2456 - val_loss: 2.8387 - val_accuracy: 0.2626\n",
      "Epoch 38/50\n",
      "359/359 [==============================] - 396s 1s/step - loss: 2.8246 - accuracy: 0.2476 - val_loss: 2.7888 - val_accuracy: 0.2612\n",
      "Epoch 39/50\n",
      "359/359 [==============================] - 396s 1s/step - loss: 2.7821 - accuracy: 0.2514 - val_loss: 2.7575 - val_accuracy: 0.2598\n",
      "Epoch 40/50\n",
      "359/359 [==============================] - 393s 1s/step - loss: 2.7539 - accuracy: 0.2527 - val_loss: 2.7349 - val_accuracy: 0.2605\n",
      "Epoch 41/50\n",
      "359/359 [==============================] - 397s 1s/step - loss: 2.7411 - accuracy: 0.2522 - val_loss: 3.5810 - val_accuracy: 0.1529\n",
      "Epoch 42/50\n",
      "359/359 [==============================] - 394s 1s/step - loss: 2.7382 - accuracy: 0.2481 - val_loss: 2.7311 - val_accuracy: 0.2388\n",
      "Epoch 43/50\n",
      "359/359 [==============================] - 396s 1s/step - loss: 2.7181 - accuracy: 0.2474 - val_loss: 2.7121 - val_accuracy: 0.2479\n",
      "Epoch 44/50\n",
      "359/359 [==============================] - 396s 1s/step - loss: 2.6884 - accuracy: 0.2488 - val_loss: 2.6682 - val_accuracy: 0.2465\n",
      "Epoch 45/50\n",
      "359/359 [==============================] - 398s 1s/step - loss: 2.6491 - accuracy: 0.2459 - val_loss: 2.6242 - val_accuracy: 0.2584\n",
      "Epoch 46/50\n",
      "359/359 [==============================] - 401s 1s/step - loss: 2.6063 - accuracy: 0.2535 - val_loss: 2.5934 - val_accuracy: 0.2556\n",
      "Epoch 47/50\n",
      "359/359 [==============================] - 394s 1s/step - loss: 2.5875 - accuracy: 0.2504 - val_loss: 2.6085 - val_accuracy: 0.2067\n",
      "Epoch 48/50\n",
      "359/359 [==============================] - 398s 1s/step - loss: 2.5602 - accuracy: 0.2503 - val_loss: 2.5922 - val_accuracy: 0.2318\n",
      "Epoch 49/50\n",
      "359/359 [==============================] - 397s 1s/step - loss: 2.5388 - accuracy: 0.2525 - val_loss: 2.5567 - val_accuracy: 0.2367\n",
      "Epoch 50/50\n",
      "359/359 [==============================] - 399s 1s/step - loss: 2.5188 - accuracy: 0.2537 - val_loss: 2.5151 - val_accuracy: 0.2486\n"
     ]
    }
   ],
   "source": [
    "history = model.fit(x = train_generator,epochs = epochs,validation_data = validation_generator)"
   ]
  },
  {
   "cell_type": "code",
   "execution_count": 17,
   "id": "e95873e1",
   "metadata": {},
   "outputs": [
    {
     "data": {
      "text/plain": [
       "<matplotlib.legend.Legend at 0x7f7f7d59acc0>"
      ]
     },
     "execution_count": 17,
     "metadata": {},
     "output_type": "execute_result"
    },
    {
     "data": {
      "image/png": "[encoded data removed]",
      "text/plain": [
       "<Figure size 864x288 with 2 Axes>"
      ]
     },
     "metadata": {
      "needs_background": "light"
     },
     "output_type": "display_data"
    }
   ],
   "source": [
    "fig , ax = plt.subplots(1,2)\n",
    "train_acc = history.history['accuracy']\n",
    "train_loss = history.history['loss']\n",
    "fig.set_size_inches(12,4)\n",
    "\n",
    "ax[0].plot(history.history['accuracy'])\n",
    "ax[0].plot(history.history['val_accuracy'])\n",
    "ax[0].set_title('Training Accuracy vs Validation Accuracy')\n",
    "ax[0].set_ylabel('Accuracy')\n",
    "ax[0].set_xlabel('Epoch')\n",
    "ax[0].legend(['Train', 'Validation'], loc='upper left')\n",
    "\n",
    "ax[1].plot(history.history['loss'])\n",
    "ax[1].plot(history.history['val_loss'])\n",
    "ax[1].set_title('Training Loss vs Validation Loss')\n",
    "ax[1].set_ylabel('Loss')\n",
    "ax[1].set_xlabel('Epoch')\n",
    "ax[1].legend(['Train', 'Validation'], loc='upper left')"
   ]
  },
  {
   "cell_type": "code",
   "execution_count": null,
   "id": "156811f7",
   "metadata": {},
   "outputs": [],
   "source": []
  }
 ],
 "metadata": {
  "kernelspec": {
   "display_name": "forDL",
   "language": "python",
   "name": "fordl"
  },
  "language_info": {
   "codemirror_mode": {
    "name": "ipython",
    "version": 3
   },
   "file_extension": ".py",
   "mimetype": "text/x-python",
   "name": "python",
   "nbconvert_exporter": "python",
   "pygments_lexer": "ipython3",
   "version": "3.6.13"
  }
 },
 "nbformat": 4,
 "nbformat_minor": 5
}
