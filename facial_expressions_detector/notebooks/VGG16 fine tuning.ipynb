{
 "cells": [
  {
   "cell_type": "code",
   "execution_count": 1,
   "id": "051515d0",
   "metadata": {},
   "outputs": [],
   "source": [
    "import numpy as np\n",
    "import pandas as pd\n",
    "from keras.preprocessing.image import ImageDataGenerator, load_img\n",
    "from keras.utils import to_categorical\n",
    "import matplotlib.pyplot as plt\n",
    "import random\n",
    "import os\n",
    "import tensorflow as tf"
   ]
  },
  {
   "cell_type": "code",
   "execution_count": 2,
   "id": "da52caf7",
   "metadata": {},
   "outputs": [],
   "source": [
    "from keras.models import Sequential\n",
    "from keras import layers\n",
    "from keras.layers import Conv2D, MaxPooling2D, Dropout, Flatten, Dense, Activation, GlobalMaxPooling2D\n",
    "from keras import applications\n",
    "from keras.preprocessing.image import ImageDataGenerator\n",
    "from keras import optimizers\n",
    "from keras.applications import VGG16\n",
    "from keras.models import Model\n",
    "from tensorflow.keras.callbacks import ReduceLROnPlateau, ModelCheckpoint, EarlyStopping"
   ]
  },
  {
   "cell_type": "code",
   "execution_count": 12,
   "id": "e0300dbe",
   "metadata": {},
   "outputs": [],
   "source": [
    "METRICS = [tf.keras.metrics.BinaryAccuracy(name='accuracy'),\n",
    "           tf.keras.metrics.Precision(name='precision'),\n",
    "           tf.keras.metrics.Recall(name='recall'),\n",
    "           tf.keras.metrics.AUC(name='auc')]"
   ]
  },
  {
   "cell_type": "code",
   "execution_count": 13,
   "id": "0e131f8d",
   "metadata": {},
   "outputs": [
    {
     "name": "stdout",
     "output_type": "stream",
     "text": [
      "Model: \"model_1\"\n",
      "_________________________________________________________________\n",
      "Layer (type)                 Output Shape              Param #   \n",
      "=================================================================\n",
      "input_2 (InputLayer)         [(None, 48, 48, 3)]       0         \n",
      "_________________________________________________________________\n",
      "block1_conv1 (Conv2D)        (None, 48, 48, 64)        1792      \n",
      "_________________________________________________________________\n",
      "block1_conv2 (Conv2D)        (None, 48, 48, 64)        36928     \n",
      "_________________________________________________________________\n",
      "block1_pool (MaxPooling2D)   (None, 24, 24, 64)        0         \n",
      "_________________________________________________________________\n",
      "block2_conv1 (Conv2D)        (None, 24, 24, 128)       73856     \n",
      "_________________________________________________________________\n",
      "block2_conv2 (Conv2D)        (None, 24, 24, 128)       147584    \n",
      "_________________________________________________________________\n",
      "block2_pool (MaxPooling2D)   (None, 12, 12, 128)       0         \n",
      "_________________________________________________________________\n",
      "block3_conv1 (Conv2D)        (None, 12, 12, 256)       295168    \n",
      "_________________________________________________________________\n",
      "block3_conv2 (Conv2D)        (None, 12, 12, 256)       590080    \n",
      "_________________________________________________________________\n",
      "block3_conv3 (Conv2D)        (None, 12, 12, 256)       590080    \n",
      "_________________________________________________________________\n",
      "block3_pool (MaxPooling2D)   (None, 6, 6, 256)         0         \n",
      "_________________________________________________________________\n",
      "block4_conv1 (Conv2D)        (None, 6, 6, 512)         1180160   \n",
      "_________________________________________________________________\n",
      "block4_conv2 (Conv2D)        (None, 6, 6, 512)         2359808   \n",
      "_________________________________________________________________\n",
      "block4_conv3 (Conv2D)        (None, 6, 6, 512)         2359808   \n",
      "_________________________________________________________________\n",
      "block4_pool (MaxPooling2D)   (None, 3, 3, 512)         0         \n",
      "_________________________________________________________________\n",
      "block5_conv1 (Conv2D)        (None, 3, 3, 512)         2359808   \n",
      "_________________________________________________________________\n",
      "block5_conv2 (Conv2D)        (None, 3, 3, 512)         2359808   \n",
      "_________________________________________________________________\n",
      "block5_conv3 (Conv2D)        (None, 3, 3, 512)         2359808   \n",
      "_________________________________________________________________\n",
      "block5_pool (MaxPooling2D)   (None, 1, 1, 512)         0         \n",
      "_________________________________________________________________\n",
      "global_max_pooling2d_1 (Glob (None, 512)               0         \n",
      "_________________________________________________________________\n",
      "dense_2 (Dense)              (None, 512)               262656    \n",
      "_________________________________________________________________\n",
      "dropout_1 (Dropout)          (None, 512)               0         \n",
      "_________________________________________________________________\n",
      "dense_3 (Dense)              (None, 7)                 3591      \n",
      "=================================================================\n",
      "Total params: 14,980,935\n",
      "Trainable params: 266,247\n",
      "Non-trainable params: 14,714,688\n",
      "_________________________________________________________________\n"
     ]
    }
   ],
   "source": [
    "IMAGE_SIZE = 48\n",
    "INPUT_SHAPE = (IMAGE_SIZE, IMAGE_SIZE, 3)\n",
    "\n",
    "num_epochs = 60\n",
    "batch_size = 64\n",
    "\n",
    "pre_trained_model = VGG16(input_shape=INPUT_SHAPE, include_top=False, weights='imagenet')\n",
    "\n",
    "for layer in pre_trained_model.layers[:20]:\n",
    "    layer.trainable = False\n",
    "\n",
    "for layer in pre_trained_model.layers[20:]:\n",
    "    layer.trainable = True\n",
    "    \n",
    "last_layer = pre_trained_model.get_layer('block5_pool')\n",
    "last_output = last_layer.output\n",
    "    \n",
    "x = GlobalMaxPooling2D()(last_output)\n",
    "\n",
    "x = Dense(512, activation='relu')(x)\n",
    "\n",
    "x = Dropout(0.5)(x)\n",
    "\n",
    "x = layers.Dense(7, activation='softmax')(x)\n",
    "\n",
    "model = Model(pre_trained_model.input, x)\n",
    "\n",
    "model.compile(loss='categorical_crossentropy',\n",
    "              optimizer=optimizers.Adam(lr=0.0001),\n",
    "              metrics=METRICS)\n",
    "\n",
    "model.summary()"
   ]
  },
  {
   "cell_type": "code",
   "execution_count": 14,
   "id": "dee0f4dd",
   "metadata": {},
   "outputs": [],
   "source": [
    "train_datagen = ImageDataGenerator(rotation_range=5,\n",
    "                                   rescale=1./255,\n",
    "                                   validation_split=0.2,\n",
    "                                   shear_range=0.2,\n",
    "                                   horizontal_flip=True,\n",
    "                                   vertical_flip=True,\n",
    "                                   width_shift_range=0.1,\n",
    "                                   height_shift_range=0.1,\n",
    "                                   fill_mode='nearest')\n",
    "\n",
    "valid_datagen = ImageDataGenerator(rescale=1./255,\n",
    "                                   validation_split=0.2)"
   ]
  },
  {
   "cell_type": "code",
   "execution_count": 15,
   "id": "8f7fb251",
   "metadata": {},
   "outputs": [
    {
     "name": "stdout",
     "output_type": "stream",
     "text": [
      "Found 22968 images belonging to 7 classes.\n",
      "Found 5741 images belonging to 7 classes.\n"
     ]
    }
   ],
   "source": [
    "train_dataset = train_datagen.flow_from_directory(directory='../data/train',\n",
    "                                                  target_size=(48,48),\n",
    "                                                  class_mode='categorical',\n",
    "                                                  subset='training',\n",
    "                                                  batch_size=64)\n",
    "\n",
    "valid_dataset = valid_datagen.flow_from_directory(directory='../data/train',\n",
    "                                                  target_size=(48,48),\n",
    "                                                  class_mode='categorical',\n",
    "                                                  subset='validation',\n",
    "                                                  batch_size=64)"
   ]
  },
  {
   "cell_type": "code",
   "execution_count": 16,
   "id": "1a25eafd",
   "metadata": {},
   "outputs": [],
   "source": [
    "lrd = ReduceLROnPlateau(monitor = 'val_loss',patience = 10,verbose = 1,factor = 0.50, min_lr = 1e-10)\n",
    "\n",
    "mcp = ModelCheckpoint('model_vgg16.h5')\n",
    "\n",
    "es = EarlyStopping(verbose=1, patience=10)"
   ]
  },
  {
   "cell_type": "code",
   "execution_count": 17,
   "id": "4cdf7d58",
   "metadata": {},
   "outputs": [
    {
     "name": "stdout",
     "output_type": "stream",
     "text": [
      "Epoch 1/60\n",
      "358/358 [==============================] - 154s 430ms/step - loss: 1.8257 - accuracy: 0.8561 - precision: 0.4084 - recall: 0.0170 - auc: 0.6615 - val_loss: 1.6936 - val_accuracy: 0.8577 - val_precision: 0.7000 - val_recall: 0.0074 - val_auc: 0.7236 - lr: 1.0000e-04\n",
      "Epoch 2/60\n",
      "358/358 [==============================] - 155s 432ms/step - loss: 1.7124 - accuracy: 0.8575 - precision: 0.5257 - recall: 0.0277 - auc: 0.7139 - val_loss: 1.6662 - val_accuracy: 0.8583 - val_precision: 0.6478 - val_recall: 0.0181 - val_auc: 0.7357 - lr: 1.0000e-04\n",
      "Epoch 3/60\n",
      "358/358 [==============================] - 155s 433ms/step - loss: 1.6793 - accuracy: 0.8589 - precision: 0.6041 - recall: 0.0364 - auc: 0.7294 - val_loss: 1.6510 - val_accuracy: 0.8594 - val_precision: 0.6193 - val_recall: 0.0406 - val_auc: 0.7414 - lr: 1.0000e-04\n",
      "Epoch 4/60\n",
      "358/358 [==============================] - 153s 428ms/step - loss: 1.6647 - accuracy: 0.8593 - precision: 0.6090 - recall: 0.0415 - auc: 0.7361 - val_loss: 1.6421 - val_accuracy: 0.8601 - val_precision: 0.6469 - val_recall: 0.0460 - val_auc: 0.7447 - lr: 1.0000e-04\n",
      "Epoch 5/60\n",
      "358/358 [==============================] - 153s 428ms/step - loss: 1.6506 - accuracy: 0.8598 - precision: 0.6148 - recall: 0.0489 - auc: 0.7424 - val_loss: 1.6289 - val_accuracy: 0.8606 - val_precision: 0.6287 - val_recall: 0.0592 - val_auc: 0.7506 - lr: 1.0000e-04\n",
      "Epoch 6/60\n",
      "358/358 [==============================] - 156s 435ms/step - loss: 1.6445 - accuracy: 0.8599 - precision: 0.6084 - recall: 0.0545 - auc: 0.7449 - val_loss: 1.6203 - val_accuracy: 0.8602 - val_precision: 0.6397 - val_recall: 0.0486 - val_auc: 0.7550 - lr: 1.0000e-04\n",
      "Epoch 7/60\n",
      "358/358 [==============================] - 151s 421ms/step - loss: 1.6421 - accuracy: 0.8600 - precision: 0.6097 - recall: 0.0553 - auc: 0.7462 - val_loss: 1.6172 - val_accuracy: 0.8606 - val_precision: 0.6262 - val_recall: 0.0597 - val_auc: 0.7559 - lr: 1.0000e-04\n",
      "Epoch 8/60\n",
      "358/358 [==============================] - 149s 417ms/step - loss: 1.6279 - accuracy: 0.8607 - precision: 0.6235 - recall: 0.0624 - auc: 0.7516 - val_loss: 1.6121 - val_accuracy: 0.8610 - val_precision: 0.6447 - val_recall: 0.0602 - val_auc: 0.7584 - lr: 1.0000e-04\n",
      "Epoch 9/60\n",
      "358/358 [==============================] - 155s 432ms/step - loss: 1.6257 - accuracy: 0.8610 - precision: 0.6267 - recall: 0.0669 - auc: 0.7527 - val_loss: 1.6074 - val_accuracy: 0.8613 - val_precision: 0.6252 - val_recall: 0.0723 - val_auc: 0.7598 - lr: 1.0000e-04\n",
      "Epoch 10/60\n",
      "358/358 [==============================] - 152s 425ms/step - loss: 1.6188 - accuracy: 0.8613 - precision: 0.6291 - recall: 0.0705 - auc: 0.7556 - val_loss: 1.6042 - val_accuracy: 0.8615 - val_precision: 0.6263 - val_recall: 0.0753 - val_auc: 0.7606 - lr: 1.0000e-04\n",
      "Epoch 11/60\n",
      "358/358 [==============================] - 154s 430ms/step - loss: 1.6143 - accuracy: 0.8608 - precision: 0.6097 - recall: 0.0716 - auc: 0.7582 - val_loss: 1.6007 - val_accuracy: 0.8619 - val_precision: 0.6460 - val_recall: 0.0730 - val_auc: 0.7617 - lr: 1.0000e-04\n",
      "Epoch 12/60\n",
      "358/358 [==============================] - 151s 423ms/step - loss: 1.6097 - accuracy: 0.8613 - precision: 0.6226 - recall: 0.0733 - auc: 0.7595 - val_loss: 1.5997 - val_accuracy: 0.8625 - val_precision: 0.6416 - val_recall: 0.0855 - val_auc: 0.7618 - lr: 1.0000e-04\n",
      "Epoch 13/60\n",
      "358/358 [==============================] - 154s 430ms/step - loss: 1.6082 - accuracy: 0.8615 - precision: 0.6228 - recall: 0.0771 - auc: 0.7598 - val_loss: 1.5926 - val_accuracy: 0.8627 - val_precision: 0.6537 - val_recall: 0.0825 - val_auc: 0.7650 - lr: 1.0000e-04\n",
      "Epoch 14/60\n",
      "358/358 [==============================] - 155s 432ms/step - loss: 1.5997 - accuracy: 0.8623 - precision: 0.6386 - recall: 0.0826 - auc: 0.7632 - val_loss: 1.5885 - val_accuracy: 0.8627 - val_precision: 0.6341 - val_recall: 0.0922 - val_auc: 0.7669 - lr: 1.0000e-04\n",
      "Epoch 15/60\n",
      "358/358 [==============================] - 157s 438ms/step - loss: 1.6015 - accuracy: 0.8618 - precision: 0.6252 - recall: 0.0816 - auc: 0.7623 - val_loss: 1.5858 - val_accuracy: 0.8630 - val_precision: 0.6432 - val_recall: 0.0915 - val_auc: 0.7680 - lr: 1.0000e-04\n",
      "Epoch 16/60\n",
      "358/358 [==============================] - 162s 453ms/step - loss: 1.5968 - accuracy: 0.8624 - precision: 0.6373 - recall: 0.0852 - auc: 0.7643 - val_loss: 1.5824 - val_accuracy: 0.8632 - val_precision: 0.6519 - val_recall: 0.0904 - val_auc: 0.7690 - lr: 1.0000e-04\n",
      "Epoch 17/60\n",
      "358/358 [==============================] - 154s 431ms/step - loss: 1.5928 - accuracy: 0.8622 - precision: 0.6299 - recall: 0.0851 - auc: 0.7661 - val_loss: 1.5819 - val_accuracy: 0.8631 - val_precision: 0.6441 - val_recall: 0.0934 - val_auc: 0.7689 - lr: 1.0000e-04\n",
      "Epoch 18/60\n",
      "358/358 [==============================] - 156s 435ms/step - loss: 1.5941 - accuracy: 0.8622 - precision: 0.6282 - recall: 0.0868 - auc: 0.7655 - val_loss: 1.5796 - val_accuracy: 0.8635 - val_precision: 0.6379 - val_recall: 0.1024 - val_auc: 0.7694 - lr: 1.0000e-04\n",
      "Epoch 19/60\n",
      "358/358 [==============================] - 155s 434ms/step - loss: 1.5891 - accuracy: 0.8626 - precision: 0.6367 - recall: 0.0885 - auc: 0.7671 - val_loss: 1.5825 - val_accuracy: 0.8638 - val_precision: 0.6477 - val_recall: 0.1020 - val_auc: 0.7682 - lr: 1.0000e-04\n",
      "Epoch 20/60\n",
      "358/358 [==============================] - 154s 430ms/step - loss: 1.5838 - accuracy: 0.8623 - precision: 0.6291 - recall: 0.0878 - auc: 0.7694 - val_loss: 1.5793 - val_accuracy: 0.8632 - val_precision: 0.6410 - val_recall: 0.0966 - val_auc: 0.7700 - lr: 1.0000e-04\n",
      "Epoch 21/60\n",
      "358/358 [==============================] - 158s 441ms/step - loss: 1.5774 - accuracy: 0.8630 - precision: 0.6434 - recall: 0.0920 - auc: 0.7714 - val_loss: 1.5766 - val_accuracy: 0.8633 - val_precision: 0.6401 - val_recall: 0.0987 - val_auc: 0.7711 - lr: 1.0000e-04\n",
      "Epoch 22/60\n",
      "358/358 [==============================] - 147s 410ms/step - loss: 1.5774 - accuracy: 0.8629 - precision: 0.6360 - recall: 0.0948 - auc: 0.7717 - val_loss: 1.5757 - val_accuracy: 0.8639 - val_precision: 0.6354 - val_recall: 0.1108 - val_auc: 0.7713 - lr: 1.0000e-04\n",
      "Epoch 23/60\n",
      "358/358 [==============================] - 164s 457ms/step - loss: 1.5781 - accuracy: 0.8633 - precision: 0.6392 - recall: 0.0982 - auc: 0.7708 - val_loss: 1.5755 - val_accuracy: 0.8635 - val_precision: 0.6545 - val_recall: 0.0941 - val_auc: 0.7714 - lr: 1.0000e-04\n",
      "Epoch 24/60\n",
      "358/358 [==============================] - 158s 440ms/step - loss: 1.5707 - accuracy: 0.8631 - precision: 0.6388 - recall: 0.0961 - auc: 0.7743 - val_loss: 1.5741 - val_accuracy: 0.8634 - val_precision: 0.6234 - val_recall: 0.1113 - val_auc: 0.7717 - lr: 1.0000e-04\n",
      "Epoch 25/60\n",
      "358/358 [==============================] - 155s 433ms/step - loss: 1.5696 - accuracy: 0.8634 - precision: 0.6415 - recall: 0.0998 - auc: 0.7748 - val_loss: 1.5715 - val_accuracy: 0.8640 - val_precision: 0.6415 - val_recall: 0.1090 - val_auc: 0.7731 - lr: 1.0000e-04\n",
      "Epoch 26/60\n",
      "358/358 [==============================] - 155s 432ms/step - loss: 1.5695 - accuracy: 0.8632 - precision: 0.6382 - recall: 0.0979 - auc: 0.7746 - val_loss: 1.5715 - val_accuracy: 0.8638 - val_precision: 0.6412 - val_recall: 0.1060 - val_auc: 0.7732 - lr: 1.0000e-04\n",
      "Epoch 27/60\n",
      "358/358 [==============================] - 153s 428ms/step - loss: 1.5696 - accuracy: 0.8635 - precision: 0.6433 - recall: 0.1006 - auc: 0.7746 - val_loss: 1.5692 - val_accuracy: 0.8638 - val_precision: 0.6233 - val_recall: 0.1176 - val_auc: 0.7737 - lr: 1.0000e-04\n",
      "Epoch 28/60\n",
      "358/358 [==============================] - 152s 425ms/step - loss: 1.5682 - accuracy: 0.8637 - precision: 0.6470 - recall: 0.1012 - auc: 0.7751 - val_loss: 1.5693 - val_accuracy: 0.8640 - val_precision: 0.6348 - val_recall: 0.1132 - val_auc: 0.7733 - lr: 1.0000e-04\n",
      "Epoch 29/60\n",
      "358/358 [==============================] - 156s 434ms/step - loss: 1.5629 - accuracy: 0.8636 - precision: 0.6357 - recall: 0.1054 - auc: 0.7767 - val_loss: 1.5674 - val_accuracy: 0.8637 - val_precision: 0.6321 - val_recall: 0.1092 - val_auc: 0.7744 - lr: 1.0000e-04\n",
      "Epoch 30/60\n",
      "358/358 [==============================] - 155s 434ms/step - loss: 1.5619 - accuracy: 0.8637 - precision: 0.6438 - recall: 0.1027 - auc: 0.7773 - val_loss: 1.5656 - val_accuracy: 0.8643 - val_precision: 0.6424 - val_recall: 0.1129 - val_auc: 0.7747 - lr: 1.0000e-04\n",
      "Epoch 31/60\n",
      "358/358 [==============================] - 153s 426ms/step - loss: 1.5620 - accuracy: 0.8633 - precision: 0.6344 - recall: 0.1021 - auc: 0.7772 - val_loss: 1.5601 - val_accuracy: 0.8642 - val_precision: 0.6428 - val_recall: 0.1118 - val_auc: 0.7769 - lr: 1.0000e-04\n",
      "Epoch 32/60\n",
      "358/358 [==============================] - 153s 429ms/step - loss: 1.5589 - accuracy: 0.8640 - precision: 0.6495 - recall: 0.1046 - auc: 0.7782 - val_loss: 1.5637 - val_accuracy: 0.8642 - val_precision: 0.6584 - val_recall: 0.1029 - val_auc: 0.7762 - lr: 1.0000e-04\n",
      "Epoch 33/60\n",
      "358/358 [==============================] - 152s 425ms/step - loss: 1.5546 - accuracy: 0.8641 - precision: 0.6482 - recall: 0.1064 - auc: 0.7795 - val_loss: 1.5633 - val_accuracy: 0.8644 - val_precision: 0.6293 - val_recall: 0.1231 - val_auc: 0.7754 - lr: 1.0000e-04\n",
      "Epoch 34/60\n",
      "358/358 [==============================] - 155s 433ms/step - loss: 1.5506 - accuracy: 0.8640 - precision: 0.6450 - recall: 0.1064 - auc: 0.7815 - val_loss: 1.5682 - val_accuracy: 0.8638 - val_precision: 0.6076 - val_recall: 0.1313 - val_auc: 0.7740 - lr: 1.0000e-04\n",
      "Epoch 35/60\n",
      "358/358 [==============================] - 154s 430ms/step - loss: 1.5542 - accuracy: 0.8644 - precision: 0.6523 - recall: 0.1084 - auc: 0.7798 - val_loss: 1.5600 - val_accuracy: 0.8645 - val_precision: 0.6379 - val_recall: 0.1194 - val_auc: 0.7769 - lr: 1.0000e-04\n",
      "Epoch 36/60\n",
      "358/358 [==============================] - 154s 429ms/step - loss: 1.5529 - accuracy: 0.8640 - precision: 0.6421 - recall: 0.1086 - auc: 0.7803 - val_loss: 1.5565 - val_accuracy: 0.8645 - val_precision: 0.6422 - val_recall: 0.1169 - val_auc: 0.7779 - lr: 1.0000e-04\n",
      "Epoch 37/60\n",
      "358/358 [==============================] - 151s 422ms/step - loss: 1.5501 - accuracy: 0.8643 - precision: 0.6462 - recall: 0.1113 - auc: 0.7813 - val_loss: 1.5591 - val_accuracy: 0.8646 - val_precision: 0.6309 - val_recall: 0.1261 - val_auc: 0.7771 - lr: 1.0000e-04\n",
      "Epoch 38/60\n",
      "358/358 [==============================] - 152s 425ms/step - loss: 1.5462 - accuracy: 0.8644 - precision: 0.6505 - recall: 0.1095 - auc: 0.7825 - val_loss: 1.5595 - val_accuracy: 0.8645 - val_precision: 0.6199 - val_recall: 0.1334 - val_auc: 0.7771 - lr: 1.0000e-04\n",
      "Epoch 39/60\n",
      "358/358 [==============================] - 152s 426ms/step - loss: 1.5466 - accuracy: 0.8649 - precision: 0.6561 - recall: 0.1137 - auc: 0.7826 - val_loss: 1.5597 - val_accuracy: 0.8647 - val_precision: 0.6188 - val_recall: 0.1376 - val_auc: 0.7770 - lr: 1.0000e-04\n",
      "Epoch 40/60\n",
      "358/358 [==============================] - 151s 423ms/step - loss: 1.5440 - accuracy: 0.8647 - precision: 0.6526 - recall: 0.1133 - auc: 0.7832 - val_loss: 1.5541 - val_accuracy: 0.8645 - val_precision: 0.6376 - val_recall: 0.1196 - val_auc: 0.7789 - lr: 1.0000e-04\n",
      "Epoch 41/60\n",
      "358/358 [==============================] - 154s 431ms/step - loss: 1.5457 - accuracy: 0.8644 - precision: 0.6464 - recall: 0.1126 - auc: 0.7827 - val_loss: 1.5559 - val_accuracy: 0.8646 - val_precision: 0.6248 - val_recall: 0.1310 - val_auc: 0.7782 - lr: 1.0000e-04\n",
      "Epoch 42/60\n",
      "358/358 [==============================] - 154s 430ms/step - loss: 1.5426 - accuracy: 0.8646 - precision: 0.6492 - recall: 0.1140 - auc: 0.7845 - val_loss: 1.5544 - val_accuracy: 0.8647 - val_precision: 0.6132 - val_recall: 0.1431 - val_auc: 0.7791 - lr: 1.0000e-04\n",
      "Epoch 43/60\n",
      "358/358 [==============================] - 152s 425ms/step - loss: 1.5404 - accuracy: 0.8652 - precision: 0.6577 - recall: 0.1178 - auc: 0.7845 - val_loss: 1.5523 - val_accuracy: 0.8646 - val_precision: 0.6334 - val_recall: 0.1238 - val_auc: 0.7799 - lr: 1.0000e-04\n",
      "Epoch 44/60\n",
      "358/358 [==============================] - 157s 438ms/step - loss: 1.5384 - accuracy: 0.8648 - precision: 0.6471 - recall: 0.1173 - auc: 0.7858 - val_loss: 1.5493 - val_accuracy: 0.8655 - val_precision: 0.6464 - val_recall: 0.1290 - val_auc: 0.7806 - lr: 1.0000e-04\n",
      "Epoch 45/60\n",
      "358/358 [==============================] - 151s 422ms/step - loss: 1.5329 - accuracy: 0.8650 - precision: 0.6529 - recall: 0.1179 - auc: 0.7872 - val_loss: 1.5498 - val_accuracy: 0.8651 - val_precision: 0.6343 - val_recall: 0.1318 - val_auc: 0.7803 - lr: 1.0000e-04\n",
      "Epoch 46/60\n",
      "358/358 [==============================] - 155s 432ms/step - loss: 1.5337 - accuracy: 0.8653 - precision: 0.6530 - recall: 0.1211 - auc: 0.7869 - val_loss: 1.5513 - val_accuracy: 0.8650 - val_precision: 0.6356 - val_recall: 0.1292 - val_auc: 0.7800 - lr: 1.0000e-04\n",
      "Epoch 47/60\n",
      "358/358 [==============================] - 156s 436ms/step - loss: 1.5346 - accuracy: 0.8650 - precision: 0.6486 - recall: 0.1193 - auc: 0.7869 - val_loss: 1.5457 - val_accuracy: 0.8656 - val_precision: 0.6469 - val_recall: 0.1303 - val_auc: 0.7821 - lr: 1.0000e-04\n",
      "Epoch 48/60\n",
      "358/358 [==============================] - 154s 429ms/step - loss: 1.5334 - accuracy: 0.8653 - precision: 0.6557 - recall: 0.1195 - auc: 0.7871 - val_loss: 1.5469 - val_accuracy: 0.8650 - val_precision: 0.6383 - val_recall: 0.1264 - val_auc: 0.7816 - lr: 1.0000e-04\n",
      "Epoch 49/60\n",
      "358/358 [==============================] - 153s 427ms/step - loss: 1.5310 - accuracy: 0.8652 - precision: 0.6520 - recall: 0.1206 - auc: 0.7881 - val_loss: 1.5500 - val_accuracy: 0.8656 - val_precision: 0.6394 - val_recall: 0.1357 - val_auc: 0.7801 - lr: 1.0000e-04\n",
      "Epoch 50/60\n",
      "358/358 [==============================] - 149s 417ms/step - loss: 1.5339 - accuracy: 0.8650 - precision: 0.6515 - recall: 0.1185 - auc: 0.7868 - val_loss: 1.5491 - val_accuracy: 0.8651 - val_precision: 0.6312 - val_recall: 0.1343 - val_auc: 0.7807 - lr: 1.0000e-04\n",
      "Epoch 51/60\n",
      "358/358 [==============================] - 155s 434ms/step - loss: 1.5246 - accuracy: 0.8659 - precision: 0.6642 - recall: 0.1240 - auc: 0.7896 - val_loss: 1.5439 - val_accuracy: 0.8655 - val_precision: 0.6428 - val_recall: 0.1324 - val_auc: 0.7824 - lr: 1.0000e-04\n",
      "Epoch 52/60\n",
      "358/358 [==============================] - 151s 422ms/step - loss: 1.5265 - accuracy: 0.8657 - precision: 0.6577 - recall: 0.1246 - auc: 0.7892 - val_loss: 1.5428 - val_accuracy: 0.8657 - val_precision: 0.6425 - val_recall: 0.1354 - val_auc: 0.7828 - lr: 1.0000e-04\n",
      "Epoch 53/60\n",
      "358/358 [==============================] - 155s 432ms/step - loss: 1.5228 - accuracy: 0.8655 - precision: 0.6545 - recall: 0.1240 - auc: 0.7908 - val_loss: 1.5466 - val_accuracy: 0.8651 - val_precision: 0.6347 - val_recall: 0.1315 - val_auc: 0.7810 - lr: 1.0000e-04\n",
      "Epoch 54/60\n",
      "358/358 [==============================] - 155s 432ms/step - loss: 1.5245 - accuracy: 0.8653 - precision: 0.6497 - recall: 0.1244 - auc: 0.7900 - val_loss: 1.5445 - val_accuracy: 0.8656 - val_precision: 0.6364 - val_recall: 0.1389 - val_auc: 0.7822 - lr: 1.0000e-04\n",
      "Epoch 55/60\n",
      "358/358 [==============================] - 153s 428ms/step - loss: 1.5211 - accuracy: 0.8654 - precision: 0.6525 - recall: 0.1236 - auc: 0.7915 - val_loss: 1.5481 - val_accuracy: 0.8650 - val_precision: 0.6172 - val_recall: 0.1452 - val_auc: 0.7812 - lr: 1.0000e-04\n",
      "Epoch 56/60\n",
      "358/358 [==============================] - 172s 479ms/step - loss: 1.5240 - accuracy: 0.8660 - precision: 0.6595 - recall: 0.1282 - auc: 0.7899 - val_loss: 1.5446 - val_accuracy: 0.8649 - val_precision: 0.6216 - val_recall: 0.1396 - val_auc: 0.7824 - lr: 1.0000e-04\n",
      "Epoch 57/60\n",
      "358/358 [==============================] - 189s 528ms/step - loss: 1.5196 - accuracy: 0.8657 - precision: 0.6591 - recall: 0.1241 - auc: 0.7915 - val_loss: 1.5402 - val_accuracy: 0.8655 - val_precision: 0.6434 - val_recall: 0.1311 - val_auc: 0.7840 - lr: 1.0000e-04\n",
      "Epoch 58/60\n",
      "358/358 [==============================] - 194s 543ms/step - loss: 1.5186 - accuracy: 0.8658 - precision: 0.6538 - recall: 0.1286 - auc: 0.7923 - val_loss: 1.5408 - val_accuracy: 0.8661 - val_precision: 0.6439 - val_recall: 0.1406 - val_auc: 0.7835 - lr: 1.0000e-04\n",
      "Epoch 59/60\n"
     ]
    },
    {
     "name": "stdout",
     "output_type": "stream",
     "text": [
      "358/358 [==============================] - 166s 465ms/step - loss: 1.5196 - accuracy: 0.8660 - precision: 0.6581 - recall: 0.1288 - auc: 0.7915 - val_loss: 1.5367 - val_accuracy: 0.8660 - val_precision: 0.6457 - val_recall: 0.1369 - val_auc: 0.7849 - lr: 1.0000e-04\n",
      "Epoch 60/60\n",
      "358/358 [==============================] - 156s 435ms/step - loss: 1.5198 - accuracy: 0.8663 - precision: 0.6656 - recall: 0.1282 - auc: 0.7916 - val_loss: 1.5436 - val_accuracy: 0.8649 - val_precision: 0.6132 - val_recall: 0.1469 - val_auc: 0.7827 - lr: 1.0000e-04\n"
     ]
    }
   ],
   "source": [
    "history = model.fit_generator(train_dataset,\n",
    "                              epochs=60,\n",
    "                              callbacks=[lrd,mcp,es],\n",
    "                              validation_data=valid_dataset,\n",
    "                              validation_steps=5741//batch_size,\n",
    "                              steps_per_epoch=22968//batch_size)"
   ]
  },
  {
   "cell_type": "code",
   "execution_count": 18,
   "id": "96757283",
   "metadata": {},
   "outputs": [
    {
     "name": "stderr",
     "output_type": "stream",
     "text": [
      "/home/ericedge/anaconda3/envs/forDL/lib/python3.6/site-packages/ipykernel_launcher.py:8: MatplotlibDeprecationWarning: Passing the minor parameter of set_ticks() positionally is deprecated since Matplotlib 3.2; the parameter will become keyword-only two minor releases later.\n",
      "  \n",
      "/home/ericedge/anaconda3/envs/forDL/lib/python3.6/site-packages/ipykernel_launcher.py:15: MatplotlibDeprecationWarning: Passing the minor parameter of set_ticks() positionally is deprecated since Matplotlib 3.2; the parameter will become keyword-only two minor releases later.\n",
      "  from ipykernel import kernelapp as app\n"
     ]
    },
    {
     "data": {
      "image/png": "[encoded data removed]",
      "text/plain": [
       "<Figure size 1080x360 with 2 Axes>"
      ]
     },
     "metadata": {
      "needs_background": "light"
     },
     "output_type": "display_data"
    }
   ],
   "source": [
    "def plot_model_history(model_history, acc='accuracy', val_acc='val_accuracy'):\n",
    "    fig, axs = plt.subplots(1,2,figsize=(15,5))\n",
    "    axs[0].plot(range(1,len(model_history.history[acc])+1),model_history.history[acc])\n",
    "    axs[0].plot(range(1,len(model_history.history[val_acc])+1),model_history.history[val_acc])\n",
    "    axs[0].set_title('Model Accuracy')\n",
    "    axs[0].set_ylabel('Accuracy')\n",
    "    axs[0].set_xlabel('Epoch')\n",
    "    axs[0].set_xticks(np.arange(1,len(model_history.history[acc])+1),len(model_history.history[acc])/10)\n",
    "    axs[0].legend(['train', 'val'], loc='best')\n",
    "    axs[1].plot(range(1,len(model_history.history['loss'])+1),model_history.history['loss'])\n",
    "    axs[1].plot(range(1,len(model_history.history['val_loss'])+1),model_history.history['val_loss'])\n",
    "    axs[1].set_title('Model Loss')\n",
    "    axs[1].set_ylabel('Loss')\n",
    "    axs[1].set_xlabel('Epoch')\n",
    "    axs[1].set_xticks(np.arange(1,len(model_history.history['loss'])+1),len(model_history.history['loss'])/10)\n",
    "    axs[1].legend(['train', 'val'], loc='best')\n",
    "    plt.show()\n",
    "    \n",
    "plot_model_history(history)"
   ]
  },
  {
   "cell_type": "code",
   "execution_count": 1,
   "id": "65320442",
   "metadata": {},
   "outputs": [
    {
     "ename": "NameError",
     "evalue": "name 'history' is not defined",
     "output_type": "error",
     "traceback": [
      "\u001b[0;31m---------------------------------------------------------------------------\u001b[0m",
      "\u001b[0;31mNameError\u001b[0m                                 Traceback (most recent call last)",
      "\u001b[0;32m<ipython-input-1-0f30b394c927>\u001b[0m in \u001b[0;36m<module>\u001b[0;34m\u001b[0m\n\u001b[0;32m----> 1\u001b[0;31m \u001b[0mauc\u001b[0m \u001b[0;34m=\u001b[0m \u001b[0mhistory\u001b[0m\u001b[0;34m.\u001b[0m\u001b[0mhistory\u001b[0m\u001b[0;34m[\u001b[0m\u001b[0;34m'auc'\u001b[0m\u001b[0;34m]\u001b[0m\u001b[0;34m\u001b[0m\u001b[0;34m\u001b[0m\u001b[0m\n\u001b[0m\u001b[1;32m      2\u001b[0m \u001b[0mval_auc\u001b[0m \u001b[0;34m=\u001b[0m \u001b[0mhistory\u001b[0m\u001b[0;34m.\u001b[0m\u001b[0mhistory\u001b[0m\u001b[0;34m[\u001b[0m\u001b[0;34m'val_auc'\u001b[0m\u001b[0;34m]\u001b[0m\u001b[0;34m\u001b[0m\u001b[0;34m\u001b[0m\u001b[0m\n\u001b[1;32m      3\u001b[0m \u001b[0mprecision\u001b[0m \u001b[0;34m=\u001b[0m \u001b[0mhistory\u001b[0m\u001b[0;34m.\u001b[0m\u001b[0mhistory\u001b[0m\u001b[0;34m[\u001b[0m\u001b[0;34m'precision'\u001b[0m\u001b[0;34m]\u001b[0m\u001b[0;34m\u001b[0m\u001b[0;34m\u001b[0m\u001b[0m\n\u001b[1;32m      4\u001b[0m \u001b[0mval_precision\u001b[0m \u001b[0;34m=\u001b[0m \u001b[0mhistory\u001b[0m\u001b[0;34m.\u001b[0m\u001b[0mhistory\u001b[0m\u001b[0;34m[\u001b[0m\u001b[0;34m'val_precision'\u001b[0m\u001b[0;34m]\u001b[0m\u001b[0;34m\u001b[0m\u001b[0;34m\u001b[0m\u001b[0m\n\u001b[1;32m      5\u001b[0m \u001b[0;34m\u001b[0m\u001b[0m\n",
      "\u001b[0;31mNameError\u001b[0m: name 'history' is not defined"
     ]
    }
   ],
   "source": [
    "auc = history.history['auc']\n",
    "val_auc = history.history['val_auc']\n",
    "precision = history.history['precision']\n",
    "val_precision = history.history['val_precision']\n",
    "\n",
    "ax3.plot(range(1, len(auc) + 1), auc)\n",
    "ax3.plot(range(1, len(val_auc) + 1), val_auc)\n",
    "ax3.set_title('History of AUC')\n",
    "ax3.set_xlabel('Epochs')\n",
    "ax3.set_ylabel('AUC')\n",
    "ax3.legend(['training', 'validation'])\n",
    "\n",
    "ax4.plot(range(1, len(precision) + 1), precision)\n",
    "ax4.plot(range(1, len(val_precision) + 1), val_precision)\n",
    "ax4.set_title('History of Precision')\n",
    "ax4.set_xlabel('Epochs')\n",
    "ax4.set_ylabel('Precision')\n",
    "ax4.legend(['training', 'validation'])"
   ]
  },
  {
   "cell_type": "code",
   "execution_count": 23,
   "id": "9bd60769",
   "metadata": {},
   "outputs": [
    {
     "data": {
      "text/plain": [
       "['angry', 'disgust', 'fear', 'happy', 'neutral', 'sad', 'surprise']"
      ]
     },
     "execution_count": 23,
     "metadata": {},
     "output_type": "execute_result"
    }
   ],
   "source": [
    "expression_dict = list(train_dataset.class_indices.keys())\n",
    "expression_dict"
   ]
  },
  {
   "cell_type": "code",
   "execution_count": 51,
   "id": "abae7675",
   "metadata": {},
   "outputs": [
    {
     "data": {
      "image/png": "[encoded data removed]",
      "text/plain": [
       "<Figure size 432x288 with 1 Axes>"
      ]
     },
     "metadata": {
      "needs_background": "light"
     },
     "output_type": "display_data"
    },
    {
     "name": "stdout",
     "output_type": "stream",
     "text": [
      "angry\n",
      "[[0.29112548 0.02666723 0.08412883 0.18133357 0.15214276 0.2462433\n",
      "  0.01835885]]\n"
     ]
    }
   ],
   "source": [
    "from keras.models import load_model\n",
    "from keras.preprocessing import image\n",
    "import matplotlib.pyplot as plt\n",
    "import numpy as np\n",
    "import os\n",
    "\n",
    "\n",
    "def load_image(img_path, show=True):\n",
    "\n",
    "    img = image.load_img(img_path, target_size=(48,48))\n",
    "    img_tensor = image.img_to_array(img)                    # (height, width, channels)\n",
    "    img_tensor = np.expand_dims(img_tensor, axis=0)         # (1, height, width, channels), add a dimension because the model expects this shape: (batch_size, height, width, channels)\n",
    "    img_tensor /= 255.                                      # imshow expects values in the range [0, 1]\n",
    "\n",
    "    if show:\n",
    "        plt.imshow(img_tensor[0])                           \n",
    "        plt.axis('off')\n",
    "        plt.show()\n",
    "\n",
    "    return img_tensor\n",
    "\n",
    "\n",
    "# load model\n",
    "loaded_model = load_model(\"model_vgg16.h5\")\n",
    "\n",
    "# image path\n",
    "img_path = '../data/test/neutral/20.jpg'\n",
    "#img_path = '/media/data/dogscats/test1/19.jpg'      # cat\n",
    "\n",
    "# load a single image\n",
    "new_image = load_image(img_path)\n",
    "\n",
    "# check prediction\n",
    "pred = loaded_model.predict(new_image)\n",
    "\n",
    "predictions = list(pred[0])\n",
    "expression_output = expression_dict[(predictions.index(max(predictions)))]\n",
    "\n",
    "print(expression_output)\n",
    "print(pred)"
   ]
  },
  {
   "cell_type": "code",
   "execution_count": null,
   "id": "763114f6",
   "metadata": {},
   "outputs": [],
   "source": []
  }
 ],
 "metadata": {
  "kernelspec": {
   "display_name": "forDL",
   "language": "python",
   "name": "fordl"
  },
  "language_info": {
   "codemirror_mode": {
    "name": "ipython",
    "version": 3
   },
   "file_extension": ".py",
   "mimetype": "text/x-python",
   "name": "python",
   "nbconvert_exporter": "python",
   "pygments_lexer": "ipython3",
   "version": "3.6.13"
  }
 },
 "nbformat": 4,
 "nbformat_minor": 5
}
